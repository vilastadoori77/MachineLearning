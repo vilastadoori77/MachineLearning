{
 "cells": [
  {
   "cell_type": "code",
   "execution_count": 1,
   "id": "a432cb6d",
   "metadata": {},
   "outputs": [],
   "source": [
    "import pandas as pd\n",
    "import numpy as np\n",
    "import matplotlib.pyplot as plt\n",
    "%matplotlib inline\n",
    "\n",
    "import warnings\n",
    "warnings.filterwarnings('ignore')"
   ]
  },
  {
   "cell_type": "code",
   "execution_count": 2,
   "id": "b1a63c8d",
   "metadata": {},
   "outputs": [],
   "source": [
    "data = pd.read_csv(\"Exchange_rate.csv\", header=None)\n"
   ]
  },
  {
   "cell_type": "code",
   "execution_count": 3,
   "id": "543516aa",
   "metadata": {},
   "outputs": [
    {
     "data": {
      "text/html": [
       "<div>\n",
       "<style scoped>\n",
       "    .dataframe tbody tr th:only-of-type {\n",
       "        vertical-align: middle;\n",
       "    }\n",
       "\n",
       "    .dataframe tbody tr th {\n",
       "        vertical-align: top;\n",
       "    }\n",
       "\n",
       "    .dataframe thead th {\n",
       "        text-align: right;\n",
       "    }\n",
       "</style>\n",
       "<table border=\"1\" class=\"dataframe\">\n",
       "  <thead>\n",
       "    <tr style=\"text-align: right;\">\n",
       "      <th></th>\n",
       "      <th>0</th>\n",
       "      <th>1</th>\n",
       "    </tr>\n",
       "  </thead>\n",
       "  <tbody>\n",
       "    <tr>\n",
       "      <th>0</th>\n",
       "      <td>Date</td>\n",
       "      <td>Exchange Rate</td>\n",
       "    </tr>\n",
       "    <tr>\n",
       "      <th>1</th>\n",
       "      <td>12-08-2019</td>\n",
       "      <td>0.8919</td>\n",
       "    </tr>\n",
       "    <tr>\n",
       "      <th>2</th>\n",
       "      <td>13-08-2019</td>\n",
       "      <td>0.8943</td>\n",
       "    </tr>\n",
       "    <tr>\n",
       "      <th>3</th>\n",
       "      <td>14-08-2019</td>\n",
       "      <td>0.8973</td>\n",
       "    </tr>\n",
       "    <tr>\n",
       "      <th>4</th>\n",
       "      <td>15-08-2019</td>\n",
       "      <td>0.9004</td>\n",
       "    </tr>\n",
       "  </tbody>\n",
       "</table>\n",
       "</div>"
      ],
      "text/plain": [
       "            0              1\n",
       "0        Date  Exchange Rate\n",
       "1  12-08-2019         0.8919\n",
       "2  13-08-2019         0.8943\n",
       "3  14-08-2019         0.8973\n",
       "4  15-08-2019         0.9004"
      ]
     },
     "execution_count": 3,
     "metadata": {},
     "output_type": "execute_result"
    }
   ],
   "source": [
    "data.head()"
   ]
  },
  {
   "cell_type": "code",
   "execution_count": 4,
   "id": "3167539e",
   "metadata": {},
   "outputs": [],
   "source": [
    "data.columns = ['Date', 'Exchange_rate']"
   ]
  },
  {
   "cell_type": "code",
   "execution_count": 5,
   "id": "5f6f43b9",
   "metadata": {},
   "outputs": [
    {
     "data": {
      "text/html": [
       "<div>\n",
       "<style scoped>\n",
       "    .dataframe tbody tr th:only-of-type {\n",
       "        vertical-align: middle;\n",
       "    }\n",
       "\n",
       "    .dataframe tbody tr th {\n",
       "        vertical-align: top;\n",
       "    }\n",
       "\n",
       "    .dataframe thead th {\n",
       "        text-align: right;\n",
       "    }\n",
       "</style>\n",
       "<table border=\"1\" class=\"dataframe\">\n",
       "  <thead>\n",
       "    <tr style=\"text-align: right;\">\n",
       "      <th></th>\n",
       "      <th>Date</th>\n",
       "      <th>Exchange_rate</th>\n",
       "    </tr>\n",
       "  </thead>\n",
       "  <tbody>\n",
       "    <tr>\n",
       "      <th>0</th>\n",
       "      <td>Date</td>\n",
       "      <td>Exchange Rate</td>\n",
       "    </tr>\n",
       "    <tr>\n",
       "      <th>1</th>\n",
       "      <td>12-08-2019</td>\n",
       "      <td>0.8919</td>\n",
       "    </tr>\n",
       "    <tr>\n",
       "      <th>2</th>\n",
       "      <td>13-08-2019</td>\n",
       "      <td>0.8943</td>\n",
       "    </tr>\n",
       "    <tr>\n",
       "      <th>3</th>\n",
       "      <td>14-08-2019</td>\n",
       "      <td>0.8973</td>\n",
       "    </tr>\n",
       "    <tr>\n",
       "      <th>4</th>\n",
       "      <td>15-08-2019</td>\n",
       "      <td>0.9004</td>\n",
       "    </tr>\n",
       "  </tbody>\n",
       "</table>\n",
       "</div>"
      ],
      "text/plain": [
       "         Date  Exchange_rate\n",
       "0        Date  Exchange Rate\n",
       "1  12-08-2019         0.8919\n",
       "2  13-08-2019         0.8943\n",
       "3  14-08-2019         0.8973\n",
       "4  15-08-2019         0.9004"
      ]
     },
     "execution_count": 5,
     "metadata": {},
     "output_type": "execute_result"
    }
   ],
   "source": [
    "data.head()"
   ]
  },
  {
   "cell_type": "code",
   "execution_count": 6,
   "id": "dec71ac2",
   "metadata": {},
   "outputs": [],
   "source": [
    "data = data.iloc[1:]"
   ]
  },
  {
   "cell_type": "code",
   "execution_count": 7,
   "id": "a8dfbcd0",
   "metadata": {},
   "outputs": [
    {
     "data": {
      "text/html": [
       "<div>\n",
       "<style scoped>\n",
       "    .dataframe tbody tr th:only-of-type {\n",
       "        vertical-align: middle;\n",
       "    }\n",
       "\n",
       "    .dataframe tbody tr th {\n",
       "        vertical-align: top;\n",
       "    }\n",
       "\n",
       "    .dataframe thead th {\n",
       "        text-align: right;\n",
       "    }\n",
       "</style>\n",
       "<table border=\"1\" class=\"dataframe\">\n",
       "  <thead>\n",
       "    <tr style=\"text-align: right;\">\n",
       "      <th></th>\n",
       "      <th>Date</th>\n",
       "      <th>Exchange_rate</th>\n",
       "    </tr>\n",
       "  </thead>\n",
       "  <tbody>\n",
       "    <tr>\n",
       "      <th>1</th>\n",
       "      <td>12-08-2019</td>\n",
       "      <td>0.8919</td>\n",
       "    </tr>\n",
       "    <tr>\n",
       "      <th>2</th>\n",
       "      <td>13-08-2019</td>\n",
       "      <td>0.8943</td>\n",
       "    </tr>\n",
       "    <tr>\n",
       "      <th>3</th>\n",
       "      <td>14-08-2019</td>\n",
       "      <td>0.8973</td>\n",
       "    </tr>\n",
       "    <tr>\n",
       "      <th>4</th>\n",
       "      <td>15-08-2019</td>\n",
       "      <td>0.9004</td>\n",
       "    </tr>\n",
       "    <tr>\n",
       "      <th>5</th>\n",
       "      <td>16-08-2019</td>\n",
       "      <td>0.9016</td>\n",
       "    </tr>\n",
       "  </tbody>\n",
       "</table>\n",
       "</div>"
      ],
      "text/plain": [
       "         Date Exchange_rate\n",
       "1  12-08-2019        0.8919\n",
       "2  13-08-2019        0.8943\n",
       "3  14-08-2019        0.8973\n",
       "4  15-08-2019        0.9004\n",
       "5  16-08-2019        0.9016"
      ]
     },
     "execution_count": 7,
     "metadata": {},
     "output_type": "execute_result"
    }
   ],
   "source": [
    "data.head()"
   ]
  },
  {
   "cell_type": "code",
   "execution_count": 8,
   "id": "c19635bf",
   "metadata": {},
   "outputs": [],
   "source": [
    "data['Date']  = pd.to_datetime(data['Date'], format=\"%d-%m-%Y\")"
   ]
  },
  {
   "cell_type": "code",
   "execution_count": 9,
   "id": "0fe1e6b3",
   "metadata": {},
   "outputs": [
    {
     "data": {
      "text/html": [
       "<div>\n",
       "<style scoped>\n",
       "    .dataframe tbody tr th:only-of-type {\n",
       "        vertical-align: middle;\n",
       "    }\n",
       "\n",
       "    .dataframe tbody tr th {\n",
       "        vertical-align: top;\n",
       "    }\n",
       "\n",
       "    .dataframe thead th {\n",
       "        text-align: right;\n",
       "    }\n",
       "</style>\n",
       "<table border=\"1\" class=\"dataframe\">\n",
       "  <thead>\n",
       "    <tr style=\"text-align: right;\">\n",
       "      <th></th>\n",
       "      <th>Date</th>\n",
       "      <th>Exchange_rate</th>\n",
       "    </tr>\n",
       "  </thead>\n",
       "  <tbody>\n",
       "    <tr>\n",
       "      <th>1</th>\n",
       "      <td>2019-08-12</td>\n",
       "      <td>0.8919</td>\n",
       "    </tr>\n",
       "    <tr>\n",
       "      <th>2</th>\n",
       "      <td>2019-08-13</td>\n",
       "      <td>0.8943</td>\n",
       "    </tr>\n",
       "    <tr>\n",
       "      <th>3</th>\n",
       "      <td>2019-08-14</td>\n",
       "      <td>0.8973</td>\n",
       "    </tr>\n",
       "    <tr>\n",
       "      <th>4</th>\n",
       "      <td>2019-08-15</td>\n",
       "      <td>0.9004</td>\n",
       "    </tr>\n",
       "    <tr>\n",
       "      <th>5</th>\n",
       "      <td>2019-08-16</td>\n",
       "      <td>0.9016</td>\n",
       "    </tr>\n",
       "  </tbody>\n",
       "</table>\n",
       "</div>"
      ],
      "text/plain": [
       "        Date Exchange_rate\n",
       "1 2019-08-12        0.8919\n",
       "2 2019-08-13        0.8943\n",
       "3 2019-08-14        0.8973\n",
       "4 2019-08-15        0.9004\n",
       "5 2019-08-16        0.9016"
      ]
     },
     "execution_count": 9,
     "metadata": {},
     "output_type": "execute_result"
    }
   ],
   "source": [
    "data.head()"
   ]
  },
  {
   "cell_type": "code",
   "execution_count": 10,
   "id": "1fb1f6dd",
   "metadata": {},
   "outputs": [],
   "source": [
    "### Reset the Index as first column\n",
    "data = data.set_index('Date', drop=True)"
   ]
  },
  {
   "cell_type": "code",
   "execution_count": 11,
   "id": "bb7563f3",
   "metadata": {},
   "outputs": [
    {
     "data": {
      "text/html": [
       "<div>\n",
       "<style scoped>\n",
       "    .dataframe tbody tr th:only-of-type {\n",
       "        vertical-align: middle;\n",
       "    }\n",
       "\n",
       "    .dataframe tbody tr th {\n",
       "        vertical-align: top;\n",
       "    }\n",
       "\n",
       "    .dataframe thead th {\n",
       "        text-align: right;\n",
       "    }\n",
       "</style>\n",
       "<table border=\"1\" class=\"dataframe\">\n",
       "  <thead>\n",
       "    <tr style=\"text-align: right;\">\n",
       "      <th></th>\n",
       "      <th>Exchange_rate</th>\n",
       "    </tr>\n",
       "    <tr>\n",
       "      <th>Date</th>\n",
       "      <th></th>\n",
       "    </tr>\n",
       "  </thead>\n",
       "  <tbody>\n",
       "    <tr>\n",
       "      <th>2019-08-12</th>\n",
       "      <td>0.8919</td>\n",
       "    </tr>\n",
       "    <tr>\n",
       "      <th>2019-08-13</th>\n",
       "      <td>0.8943</td>\n",
       "    </tr>\n",
       "    <tr>\n",
       "      <th>2019-08-14</th>\n",
       "      <td>0.8973</td>\n",
       "    </tr>\n",
       "    <tr>\n",
       "      <th>2019-08-15</th>\n",
       "      <td>0.9004</td>\n",
       "    </tr>\n",
       "    <tr>\n",
       "      <th>2019-08-16</th>\n",
       "      <td>0.9016</td>\n",
       "    </tr>\n",
       "  </tbody>\n",
       "</table>\n",
       "</div>"
      ],
      "text/plain": [
       "           Exchange_rate\n",
       "Date                    \n",
       "2019-08-12        0.8919\n",
       "2019-08-13        0.8943\n",
       "2019-08-14        0.8973\n",
       "2019-08-15        0.9004\n",
       "2019-08-16        0.9016"
      ]
     },
     "execution_count": 11,
     "metadata": {},
     "output_type": "execute_result"
    }
   ],
   "source": [
    "data.head()"
   ]
  },
  {
   "cell_type": "code",
   "execution_count": 12,
   "id": "2d075c56",
   "metadata": {},
   "outputs": [
    {
     "data": {
      "text/plain": [
       "Exchange_rate    object\n",
       "dtype: object"
      ]
     },
     "execution_count": 12,
     "metadata": {},
     "output_type": "execute_result"
    }
   ],
   "source": [
    "data.dtypes"
   ]
  },
  {
   "cell_type": "code",
   "execution_count": 13,
   "id": "ab94a710",
   "metadata": {},
   "outputs": [],
   "source": [
    "data['Exchange_rate'] = pd.to_numeric(data['Exchange_rate'], errors = 'coerce' )"
   ]
  },
  {
   "cell_type": "code",
   "execution_count": 14,
   "id": "684fe126",
   "metadata": {},
   "outputs": [
    {
     "data": {
      "text/html": [
       "<div>\n",
       "<style scoped>\n",
       "    .dataframe tbody tr th:only-of-type {\n",
       "        vertical-align: middle;\n",
       "    }\n",
       "\n",
       "    .dataframe tbody tr th {\n",
       "        vertical-align: top;\n",
       "    }\n",
       "\n",
       "    .dataframe thead th {\n",
       "        text-align: right;\n",
       "    }\n",
       "</style>\n",
       "<table border=\"1\" class=\"dataframe\">\n",
       "  <thead>\n",
       "    <tr style=\"text-align: right;\">\n",
       "      <th></th>\n",
       "      <th>Exchange_rate</th>\n",
       "    </tr>\n",
       "    <tr>\n",
       "      <th>Date</th>\n",
       "      <th></th>\n",
       "    </tr>\n",
       "  </thead>\n",
       "  <tbody>\n",
       "    <tr>\n",
       "      <th>2019-08-12</th>\n",
       "      <td>0.8919</td>\n",
       "    </tr>\n",
       "    <tr>\n",
       "      <th>2019-08-13</th>\n",
       "      <td>0.8943</td>\n",
       "    </tr>\n",
       "    <tr>\n",
       "      <th>2019-08-14</th>\n",
       "      <td>0.8973</td>\n",
       "    </tr>\n",
       "    <tr>\n",
       "      <th>2019-08-15</th>\n",
       "      <td>0.9004</td>\n",
       "    </tr>\n",
       "    <tr>\n",
       "      <th>2019-08-16</th>\n",
       "      <td>0.9016</td>\n",
       "    </tr>\n",
       "  </tbody>\n",
       "</table>\n",
       "</div>"
      ],
      "text/plain": [
       "            Exchange_rate\n",
       "Date                     \n",
       "2019-08-12         0.8919\n",
       "2019-08-13         0.8943\n",
       "2019-08-14         0.8973\n",
       "2019-08-15         0.9004\n",
       "2019-08-16         0.9016"
      ]
     },
     "execution_count": 14,
     "metadata": {},
     "output_type": "execute_result"
    }
   ],
   "source": [
    "data.head()"
   ]
  },
  {
   "cell_type": "code",
   "execution_count": 15,
   "id": "3d07792f",
   "metadata": {},
   "outputs": [
    {
     "data": {
      "image/png": "[encoded data removed]",
      "text/plain": [
       "<Figure size 1200x400 with 1 Axes>"
      ]
     },
     "metadata": {},
     "output_type": "display_data"
    }
   ],
   "source": [
    "### Plot The Time Series Data As Below\n",
    "\n",
    "data.plot(figsize = (12,4))\n",
    "plt.legend(loc='best')\n",
    "plt.title('Exchange Rate')\n",
    "plt.xlabel('Date')\n",
    "plt.ylabel('Exchange_rate')\n",
    "plt.show(block = False)"
   ]
  },
  {
   "cell_type": "code",
   "execution_count": 16,
   "id": "c5d2059b",
   "metadata": {},
   "outputs": [
    {
     "data": {
      "image/png": "[encoded data removed]",
      "text/plain": [
       "<Figure size 1200x400 with 1 Axes>"
      ]
     },
     "metadata": {},
     "output_type": "display_data"
    }
   ],
   "source": [
    "fig = data.Exchange_rate.hist(figsize=(12,4))"
   ]
  },
  {
   "cell_type": "markdown",
   "id": "f87fec31",
   "metadata": {},
   "source": [
    "### Build And Evaluate Time Series Forecast"
   ]
  },
  {
   "cell_type": "markdown",
   "id": "bb264dde",
   "metadata": {},
   "source": [
    "### Spliiting and Evalueate the time series into training and test set"
   ]
  },
  {
   "cell_type": "code",
   "execution_count": 17,
   "id": "7d9b3b91",
   "metadata": {},
   "outputs": [],
   "source": [
    "train_len = 5\n",
    "train = data[0:train_len]\n",
    "test = data[train_len:]"
   ]
  },
  {
   "cell_type": "code",
   "execution_count": 18,
   "id": "95447440",
   "metadata": {},
   "outputs": [
    {
     "data": {
      "text/plain": [
       "5"
      ]
     },
     "execution_count": 18,
     "metadata": {},
     "output_type": "execute_result"
    }
   ],
   "source": [
    "len(train)"
   ]
  },
  {
   "cell_type": "markdown",
   "id": "fac1d8b2",
   "metadata": {},
   "source": [
    "### Naive Method\n"
   ]
  },
  {
   "cell_type": "code",
   "execution_count": 19,
   "id": "5974e11b",
   "metadata": {},
   "outputs": [],
   "source": [
    "y_hat_naive = test.copy()\n",
    "## Calculating the next value based on the naive method\n",
    "y_hat_naive['naive_forecast'] = train['Exchange_rate'][train_len - 1]"
   ]
  },
  {
   "cell_type": "markdown",
   "id": "3c0115b4",
   "metadata": {},
   "source": [
    "#### Naive Method - Plot Test and Forecast"
   ]
  },
  {
   "cell_type": "code",
   "execution_count": 20,
   "id": "6bda7d60",
   "metadata": {},
   "outputs": [
    {
     "data": {
      "image/png": "[encoded data removed]",
      "text/plain": [
       "<Figure size 1200x400 with 1 Axes>"
      ]
     },
     "metadata": {},
     "output_type": "display_data"
    }
   ],
   "source": [
    "plt.figure(figsize=(12,4))\n",
    "plt.plot(train['Exchange_rate'], label = 'Train')\n",
    "plt.plot(test['Exchange_rate'], label = 'Test')\n",
    "plt.plot(y_hat_naive['naive_forecast'], label='Navie forecast')\n",
    "plt.legend(loc='best')\n",
    "plt.title('Naive Method')\n",
    "plt.show()"
   ]
  },
  {
   "cell_type": "markdown",
   "id": "efd294eb",
   "metadata": {},
   "source": [
    "### Calculate the RMSE and MAPE to evaluate forecast ( Naive Method)"
   ]
  },
  {
   "cell_type": "code",
   "execution_count": 21,
   "id": "fe4632ab",
   "metadata": {},
   "outputs": [
    {
     "data": {
      "text/html": [
       "<div>\n",
       "<style scoped>\n",
       "    .dataframe tbody tr th:only-of-type {\n",
       "        vertical-align: middle;\n",
       "    }\n",
       "\n",
       "    .dataframe tbody tr th {\n",
       "        vertical-align: top;\n",
       "    }\n",
       "\n",
       "    .dataframe thead th {\n",
       "        text-align: right;\n",
       "    }\n",
       "</style>\n",
       "<table border=\"1\" class=\"dataframe\">\n",
       "  <thead>\n",
       "    <tr style=\"text-align: right;\">\n",
       "      <th></th>\n",
       "      <th>Method</th>\n",
       "      <th>RMSE</th>\n",
       "      <th>MAPE</th>\n",
       "    </tr>\n",
       "  </thead>\n",
       "  <tbody>\n",
       "    <tr>\n",
       "      <th>0</th>\n",
       "      <td>Naive method</td>\n",
       "      <td>0.0</td>\n",
       "      <td>0.02</td>\n",
       "    </tr>\n",
       "  </tbody>\n",
       "</table>\n",
       "</div>"
      ],
      "text/plain": [
       "         Method  RMSE  MAPE\n",
       "0  Naive method   0.0  0.02"
      ]
     },
     "execution_count": 21,
     "metadata": {},
     "output_type": "execute_result"
    }
   ],
   "source": [
    "from sklearn.metrics import mean_squared_error\n",
    "rmse = np.sqrt(mean_squared_error(test['Exchange_rate'], y_hat_naive['naive_forecast'])).round(2)\n",
    "mape = np.round(np.mean(np.abs(test['Exchange_rate']-y_hat_naive['naive_forecast'])/test['Exchange_rate'])*100,2)\n",
    "results = pd.DataFrame({'Method' :['Naive method'], 'MAPE':[mape], 'RMSE':[rmse]})\n",
    "results = results[['Method', 'RMSE', 'MAPE']]\n",
    "results"
   ]
  },
  {
   "cell_type": "code",
   "execution_count": 22,
   "id": "c021a471",
   "metadata": {},
   "outputs": [
    {
     "name": "stdout",
     "output_type": "stream",
     "text": [
      "Accuracy 99.98\n"
     ]
    }
   ],
   "source": [
    "print('Accuracy', (1-(mape/100)) *100)"
   ]
  },
  {
   "cell_type": "markdown",
   "id": "39316baf",
   "metadata": {},
   "source": [
    "### Simple Average Method"
   ]
  },
  {
   "cell_type": "code",
   "execution_count": 23,
   "id": "e253743b",
   "metadata": {},
   "outputs": [],
   "source": [
    "y_hat_avg = test.copy()\n",
    "###Caluclate the next value based on the simple average method.\n",
    "y_hat_avg['avg_forecast'] = train['Exchange_rate'].mean()"
   ]
  },
  {
   "cell_type": "markdown",
   "id": "9d69103d",
   "metadata": {},
   "source": [
    "### Plot Train , Test and Forecast - Simple Average Method"
   ]
  },
  {
   "cell_type": "code",
   "execution_count": 24,
   "id": "78cd25b4",
   "metadata": {},
   "outputs": [
    {
     "data": {
      "image/png": "[encoded data removed]",
      "text/plain": [
       "<Figure size 1200x400 with 1 Axes>"
      ]
     },
     "metadata": {},
     "output_type": "display_data"
    }
   ],
   "source": [
    "plt.figure(figsize=(12,4))\n",
    "plt.plot(train['Exchange_rate'], label = 'Train')\n",
    "plt.plot(test['Exchange_rate'], label = 'Test')\n",
    "plt.plot(y_hat_avg['avg_forecast'], label='Simple Avg forecast')\n",
    "plt.legend(loc='best')\n",
    "plt.title(\"Simple Avg Method\")\n",
    "plt.show()"
   ]
  },
  {
   "cell_type": "markdown",
   "id": "0235ba4b",
   "metadata": {},
   "source": [
    "### Calculate RMSE and MAPE to evaluate forecast - Simple Average Method"
   ]
  },
  {
   "cell_type": "code",
   "execution_count": 25,
   "id": "eeb87ea3",
   "metadata": {},
   "outputs": [
    {
     "data": {
      "text/html": [
       "<div>\n",
       "<style scoped>\n",
       "    .dataframe tbody tr th:only-of-type {\n",
       "        vertical-align: middle;\n",
       "    }\n",
       "\n",
       "    .dataframe tbody tr th {\n",
       "        vertical-align: top;\n",
       "    }\n",
       "\n",
       "    .dataframe thead th {\n",
       "        text-align: right;\n",
       "    }\n",
       "</style>\n",
       "<table border=\"1\" class=\"dataframe\">\n",
       "  <thead>\n",
       "    <tr style=\"text-align: right;\">\n",
       "      <th></th>\n",
       "      <th>Method</th>\n",
       "      <th>RMSE</th>\n",
       "      <th>MAPE</th>\n",
       "    </tr>\n",
       "  </thead>\n",
       "  <tbody>\n",
       "    <tr>\n",
       "      <th>0</th>\n",
       "      <td>Naive method</td>\n",
       "      <td>0.0</td>\n",
       "      <td>0.02</td>\n",
       "    </tr>\n",
       "    <tr>\n",
       "      <th>0</th>\n",
       "      <td>Simple avg method</td>\n",
       "      <td>0.0</td>\n",
       "      <td>0.48</td>\n",
       "    </tr>\n",
       "  </tbody>\n",
       "</table>\n",
       "</div>"
      ],
      "text/plain": [
       "              Method  RMSE  MAPE\n",
       "0       Naive method   0.0  0.02\n",
       "0  Simple avg method   0.0  0.48"
      ]
     },
     "execution_count": 25,
     "metadata": {},
     "output_type": "execute_result"
    }
   ],
   "source": [
    "rmse = np.sqrt(mean_squared_error(test['Exchange_rate'], y_hat_avg['avg_forecast'])).round(2)\n",
    "mape = np.round(np.mean(np.abs(test['Exchange_rate']-y_hat_avg['avg_forecast'])/test['Exchange_rate'])*100,2)\n",
    "tempResults = pd.DataFrame({'Method':['Simple avg method'], 'RMSE':[rmse], 'MAPE':[mape]})\n",
    "results = pd.concat([results, tempResults])\n",
    "results"
   ]
  },
  {
   "cell_type": "code",
   "execution_count": 26,
   "id": "5955a634",
   "metadata": {},
   "outputs": [
    {
     "name": "stdout",
     "output_type": "stream",
     "text": [
      "Accuracy 99.52\n"
     ]
    }
   ],
   "source": [
    "print('Accuracy', (1-(mape/100)) *100)"
   ]
  },
  {
   "cell_type": "markdown",
   "id": "ef172539",
   "metadata": {},
   "source": [
    "### Simple Moving Average"
   ]
  },
  {
   "cell_type": "code",
   "execution_count": 27,
   "id": "b23af36e",
   "metadata": {},
   "outputs": [],
   "source": [
    "y_hat_sma = data.copy()\n",
    "ma_window = 3\n",
    "y_hat_sma['sma_forecast'] = data['Exchange_rate'].rolling(ma_window).mean() #Rolling 12 month average\n",
    "y_hat_sma['sma_forecast'][train_len:] = y_hat_sma['sma_forecast'][train_len-1]"
   ]
  },
  {
   "cell_type": "markdown",
   "id": "8a0f44aa",
   "metadata": {},
   "source": [
    "#### Plot Train, Test and Forecast - Simple Moving Average method"
   ]
  },
  {
   "cell_type": "code",
   "execution_count": 28,
   "id": "46a24dcd",
   "metadata": {},
   "outputs": [
    {
     "data": {
      "image/png": "[encoded data removed]",
      "text/plain": [
       "<Figure size 1200x400 with 1 Axes>"
      ]
     },
     "metadata": {},
     "output_type": "display_data"
    }
   ],
   "source": [
    "plt.figure(figsize=(12,4))\n",
    "plt.plot(train['Exchange_rate'], label = 'Train')\n",
    "plt.plot(test['Exchange_rate'], label = 'Test')\n",
    "plt.plot(y_hat_sma['sma_forecast'], label = 'Simple moving average forecast')\n",
    "plt.legend(loc='best')\n",
    "plt.title('Simple Moving Average Method')\n",
    "plt.show()"
   ]
  },
  {
   "cell_type": "markdown",
   "id": "29b11784",
   "metadata": {},
   "source": [
    "#### Calculate RMSE, MAPE to evaluate forecast"
   ]
  },
  {
   "cell_type": "code",
   "execution_count": 29,
   "id": "745ccca9",
   "metadata": {},
   "outputs": [
    {
     "data": {
      "text/html": [
       "<div>\n",
       "<style scoped>\n",
       "    .dataframe tbody tr th:only-of-type {\n",
       "        vertical-align: middle;\n",
       "    }\n",
       "\n",
       "    .dataframe tbody tr th {\n",
       "        vertical-align: top;\n",
       "    }\n",
       "\n",
       "    .dataframe thead th {\n",
       "        text-align: right;\n",
       "    }\n",
       "</style>\n",
       "<table border=\"1\" class=\"dataframe\">\n",
       "  <thead>\n",
       "    <tr style=\"text-align: right;\">\n",
       "      <th></th>\n",
       "      <th>Method</th>\n",
       "      <th>RMSE</th>\n",
       "      <th>MAPE</th>\n",
       "    </tr>\n",
       "  </thead>\n",
       "  <tbody>\n",
       "    <tr>\n",
       "      <th>0</th>\n",
       "      <td>Naive method</td>\n",
       "      <td>0.0</td>\n",
       "      <td>0.02</td>\n",
       "    </tr>\n",
       "    <tr>\n",
       "      <th>0</th>\n",
       "      <td>Simple avg method</td>\n",
       "      <td>0.0</td>\n",
       "      <td>0.48</td>\n",
       "    </tr>\n",
       "    <tr>\n",
       "      <th>0</th>\n",
       "      <td>Simple Moving Average Method</td>\n",
       "      <td>0.0</td>\n",
       "      <td>0.18</td>\n",
       "    </tr>\n",
       "  </tbody>\n",
       "</table>\n",
       "</div>"
      ],
      "text/plain": [
       "                         Method  RMSE  MAPE\n",
       "0                  Naive method   0.0  0.02\n",
       "0             Simple avg method   0.0  0.48\n",
       "0  Simple Moving Average Method   0.0  0.18"
      ]
     },
     "execution_count": 29,
     "metadata": {},
     "output_type": "execute_result"
    }
   ],
   "source": [
    "rmse = np.sqrt(mean_squared_error(test['Exchange_rate'], y_hat_sma['sma_forecast'][train_len:])).round(2)\n",
    "mape = np.round(np.mean(np.abs(test['Exchange_rate']-y_hat_sma['sma_forecast'][train_len:])/test['Exchange_rate'])*100,2)\n",
    "\n",
    "tempResults = pd.DataFrame({'Method': ['Simple Moving Average Method'], 'RMSE':[rmse], 'MAPE':[mape]})\n",
    "results = pd.concat([results, tempResults])\n",
    "results"
   ]
  },
  {
   "cell_type": "code",
   "execution_count": 30,
   "id": "d31a4a1c",
   "metadata": {},
   "outputs": [
    {
     "name": "stdout",
     "output_type": "stream",
     "text": [
      "Accuracy 99.82\n"
     ]
    }
   ],
   "source": [
    "print('Accuracy', (1-(mape/100)) * 100)"
   ]
  },
  {
   "cell_type": "code",
   "execution_count": null,
   "id": "a0ae3117",
   "metadata": {},
   "outputs": [],
   "source": []
  },
  {
   "cell_type": "code",
   "execution_count": null,
   "id": "7f3b6207",
   "metadata": {},
   "outputs": [],
   "source": []
  }
 ],
 "metadata": {
  "kernelspec": {
   "display_name": "Python 3 (ipykernel)",
   "language": "python",
   "name": "python3"
  },
  "language_info": {
   "codemirror_mode": {
    "name": "ipython",
    "version": 3
   },
   "file_extension": ".py",
   "mimetype": "text/x-python",
   "name": "python",
   "nbconvert_exporter": "python",
   "pygments_lexer": "ipython3",
   "version": "3.10.9"
  }
 },
 "nbformat": 4,
 "nbformat_minor": 5
}
